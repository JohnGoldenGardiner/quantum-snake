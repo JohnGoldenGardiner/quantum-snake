{
 "cells": [
  {
   "cell_type": "code",
   "execution_count": 24,
   "id": "06be5d56",
   "metadata": {},
   "outputs": [],
   "source": [
    "import numpy as np\n",
    "import time\n",
    "from scipy import linalg\n",
    "import qiskit\n",
    "import itertools"
   ]
  },
  {
   "cell_type": "code",
   "execution_count": 2,
   "id": "8340e8fb",
   "metadata": {},
   "outputs": [],
   "source": [
    "rng = np.random.default_rng()"
   ]
  },
  {
   "cell_type": "code",
   "execution_count": null,
   "id": "b631be33",
   "metadata": {},
   "outputs": [],
   "source": []
  },
  {
   "cell_type": "code",
   "execution_count": null,
   "id": "72b65e93",
   "metadata": {},
   "outputs": [],
   "source": []
  },
  {
   "cell_type": "code",
   "execution_count": null,
   "id": "54e5cdf4",
   "metadata": {},
   "outputs": [],
   "source": []
  },
  {
   "cell_type": "code",
   "execution_count": null,
   "id": "9e019caf",
   "metadata": {},
   "outputs": [],
   "source": [
    "def query(probe,a0,dist):\n",
    "    probe_vertices #probe vertices\n",
    "    distances = dist[probe_vertices,np.full(len(probe_vertices,a0))]\n",
    "    probabilites = np.abs(probe)**2\n",
    "    measured_distance = rng.choice([distances],p=probabilities)\n",
    "    probe\n",
    "    "
   ]
  },
  {
   "cell_type": "code",
   "execution_count": 65,
   "id": "a5374c48",
   "metadata": {},
   "outputs": [
    {
     "data": {
      "text/plain": [
       "'a'"
      ]
     },
     "execution_count": 65,
     "metadata": {},
     "output_type": "execute_result"
    }
   ],
   "source": []
  },
  {
   "cell_type": "code",
   "execution_count": 50,
   "id": "981f3259",
   "metadata": {},
   "outputs": [],
   "source": [
    "def distances(graph):\n",
    "    # Returns the shortest distance between two vertices.\n",
    "    # graph is the adjacency matrix.\n",
    "    # Uses the Floyd-Warshall algorithm\n",
    "    N = graph.shape[0]\n",
    "    dist = np.full((N,N),np.inf)\n",
    "    print(dist)\n",
    "    dist[graph==1] = 1\n",
    "    print(dist)\n",
    "    dist[range(N),range(N)] = 0\n",
    "    print(dist)\n",
    "    for k in range(N):\n",
    "        for i in range(N):\n",
    "            for j in range(N):\n",
    "                if dist[i,j] > dist[i,k] + dist[k,j]:\n",
    "                    dist[i,j] = dist[i,k] + dist[k,j]\n",
    "    return dist"
   ]
  },
  {
   "cell_type": "code",
   "execution_count": null,
   "id": "7e26c9f6",
   "metadata": {},
   "outputs": [],
   "source": []
  },
  {
   "cell_type": "code",
   "execution_count": null,
   "id": "09918fe2",
   "metadata": {},
   "outputs": [],
   "source": []
  },
  {
   "cell_type": "code",
   "execution_count": 5,
   "id": "1bc5b067",
   "metadata": {},
   "outputs": [],
   "source": [
    "grid = True\n",
    "N = 100\n",
    "\n",
    "if grid = True:\n",
    "    grid_size = (10,10)\n",
    "    graph # make adjacency matrix"
   ]
  },
  {
   "cell_type": "code",
   "execution_count": 20,
   "id": "a63701cd",
   "metadata": {},
   "outputs": [
    {
     "name": "stdout",
     "output_type": "stream",
     "text": [
      "69\n"
     ]
    }
   ],
   "source": [
    "a0 = rng.integers(grid_size[0]*grid_size[1])"
   ]
  },
  {
   "cell_type": "code",
   "execution_count": 22,
   "id": "e2840f18",
   "metadata": {},
   "outputs": [
    {
     "data": {
      "text/plain": [
       "1.0"
      ]
     },
     "execution_count": 22,
     "metadata": {},
     "output_type": "execute_result"
    }
   ],
   "source": [
    "probe = np.array([3/5,4/5,0]) #test probe. replace with user input\n",
    "\n"
   ]
  },
  {
   "cell_type": "code",
   "execution_count": null,
   "id": "06519f64",
   "metadata": {},
   "outputs": [],
   "source": []
  }
 ],
 "metadata": {
  "kernelspec": {
   "display_name": "Python 3 (ipykernel)",
   "language": "python",
   "name": "python3"
  },
  "language_info": {
   "codemirror_mode": {
    "name": "ipython",
    "version": 3
   },
   "file_extension": ".py",
   "mimetype": "text/x-python",
   "name": "python",
   "nbconvert_exporter": "python",
   "pygments_lexer": "ipython3",
   "version": "3.10.4"
  }
 },
 "nbformat": 4,
 "nbformat_minor": 5
}
